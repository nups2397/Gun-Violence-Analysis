{
 "cells": [
  {
   "cell_type": "markdown",
   "id": "da8afb80-645f-44ba-bc2b-154e86a2baf8",
   "metadata": {},
   "source": [
    "# Table of Contents\n",
    "\n",
    "## 01. Importing Libraries and Data\n",
    "\n",
    "## 02. Data Cleaning\n",
    "### - Missing Values\n",
    "### - Duplicates\n",
    "\n",
    "## 03. Data Prep for Regression Analysis\n",
    "\n",
    "## 04. Regression Analysis\n",
    "\n",
    "## 05. Extracting Dataframe"
   ]
  },
  {
   "cell_type": "markdown",
   "id": "fab53aa7-ba61-4372-ae63-71bd871298f2",
   "metadata": {},
   "source": [
    "------"
   ]
  },
  {
   "cell_type": "markdown",
   "id": "22724776-c0fa-4f56-a5c5-3fd023e190b2",
   "metadata": {},
   "source": [
    "# 01. Importing Libraries and Data"
   ]
  },
  {
   "cell_type": "code",
   "execution_count": 1,
   "id": "cf74be1e-7055-4b96-9407-6f5d8e2c41da",
   "metadata": {},
   "outputs": [],
   "source": [
    "# importing libraries\n",
    "\n",
    "import pandas as pd\n",
    "import numpy as np\n",
    "import seaborn as sns\n",
    "import matplotlib\n",
    "import matplotlib.pyplot as plt\n",
    "import os\n",
    "import sklearn\n",
    "from sklearn.model_selection import train_test_split \n",
    "from sklearn.linear_model import LinearRegression\n",
    "from sklearn.metrics import mean_squared_error, r2_score"
   ]
  },
  {
   "cell_type": "code",
   "execution_count": 2,
   "id": "643d311a-38ad-4cf3-85c1-d18388a59493",
   "metadata": {},
   "outputs": [],
   "source": [
    "# ensuringe that the graphs created are displayed within the notebook without the need to \"call\" them specifically.\n",
    "\n",
    "%matplotlib inline"
   ]
  },
  {
   "cell_type": "code",
   "execution_count": 3,
   "id": "aff9bcdd-213b-41f6-aedf-6d2a20898bf3",
   "metadata": {},
   "outputs": [],
   "source": [
    "path= r'C:\\Users\\princess\\Downloads\\12-23 Gun Violence Analysis'"
   ]
  },
  {
   "cell_type": "code",
   "execution_count": 4,
   "id": "29cf1f52-ac63-4978-b2f8-30259e8ac682",
   "metadata": {},
   "outputs": [],
   "source": [
    "#importing cleaned dataset \n",
    "\n",
    "gv_df = pd.read_csv(os.path.join(path, '02 Data', 'Prepared Data', '6.3_gun_violence_cleaned.csv'))"
   ]
  },
  {
   "cell_type": "markdown",
   "id": "d525299f-5e80-44bd-b8c3-d7ca5f23be3d",
   "metadata": {},
   "source": [
    "-------"
   ]
  },
  {
   "cell_type": "markdown",
   "id": "f21afa7f-7ca7-4f66-a447-fb0f3d56a849",
   "metadata": {},
   "source": [
    "# 02. Data Cleaning"
   ]
  },
  {
   "cell_type": "code",
   "execution_count": 5,
   "id": "82d74c54-5f16-4cc5-b5b9-ca8320449904",
   "metadata": {},
   "outputs": [
    {
     "data": {
      "text/html": [
       "<div>\n",
       "<style scoped>\n",
       "    .dataframe tbody tr th:only-of-type {\n",
       "        vertical-align: middle;\n",
       "    }\n",
       "\n",
       "    .dataframe tbody tr th {\n",
       "        vertical-align: top;\n",
       "    }\n",
       "\n",
       "    .dataframe thead th {\n",
       "        text-align: right;\n",
       "    }\n",
       "</style>\n",
       "<table border=\"1\" class=\"dataframe\">\n",
       "  <thead>\n",
       "    <tr style=\"text-align: right;\">\n",
       "      <th></th>\n",
       "      <th>Unnamed: 0</th>\n",
       "      <th>Incident ID</th>\n",
       "      <th>Date</th>\n",
       "      <th>Year</th>\n",
       "      <th>Month</th>\n",
       "      <th>Weekday</th>\n",
       "      <th>State</th>\n",
       "      <th>City or County</th>\n",
       "      <th>Address</th>\n",
       "      <th>Number Killed</th>\n",
       "      <th>...</th>\n",
       "      <th>Location Description</th>\n",
       "      <th>Notes</th>\n",
       "      <th>Child Participants 0-11</th>\n",
       "      <th>Teen Participants 12-17</th>\n",
       "      <th>Adult Participants 18+</th>\n",
       "      <th>Total Participants</th>\n",
       "      <th>Male Participants</th>\n",
       "      <th>Female Participants</th>\n",
       "      <th>Victim Count</th>\n",
       "      <th>Suspect Count</th>\n",
       "    </tr>\n",
       "  </thead>\n",
       "  <tbody>\n",
       "    <tr>\n",
       "      <th>0</th>\n",
       "      <td>0</td>\n",
       "      <td>461105</td>\n",
       "      <td>2013-01-01</td>\n",
       "      <td>2013</td>\n",
       "      <td>1</td>\n",
       "      <td>1</td>\n",
       "      <td>Pennsylvania</td>\n",
       "      <td>Mckeesport</td>\n",
       "      <td>1506 Versailles Avenue and Coursin Street</td>\n",
       "      <td>0</td>\n",
       "      <td>...</td>\n",
       "      <td>NaN</td>\n",
       "      <td>Julian Sims under investigation: Four Shot and...</td>\n",
       "      <td>0</td>\n",
       "      <td>0</td>\n",
       "      <td>5</td>\n",
       "      <td>4</td>\n",
       "      <td>3</td>\n",
       "      <td>1</td>\n",
       "      <td>4</td>\n",
       "      <td>1</td>\n",
       "    </tr>\n",
       "    <tr>\n",
       "      <th>1</th>\n",
       "      <td>1</td>\n",
       "      <td>460726</td>\n",
       "      <td>2013-01-01</td>\n",
       "      <td>2013</td>\n",
       "      <td>1</td>\n",
       "      <td>1</td>\n",
       "      <td>California</td>\n",
       "      <td>Hawthorne</td>\n",
       "      <td>13500 block of Cerise Avenue</td>\n",
       "      <td>1</td>\n",
       "      <td>...</td>\n",
       "      <td>NaN</td>\n",
       "      <td>Four Shot; One Killed; Unidentified shooter in...</td>\n",
       "      <td>0</td>\n",
       "      <td>0</td>\n",
       "      <td>4</td>\n",
       "      <td>1</td>\n",
       "      <td>1</td>\n",
       "      <td>0</td>\n",
       "      <td>4</td>\n",
       "      <td>1</td>\n",
       "    </tr>\n",
       "    <tr>\n",
       "      <th>2</th>\n",
       "      <td>2</td>\n",
       "      <td>478855</td>\n",
       "      <td>2013-01-01</td>\n",
       "      <td>2013</td>\n",
       "      <td>1</td>\n",
       "      <td>1</td>\n",
       "      <td>Ohio</td>\n",
       "      <td>Lorain</td>\n",
       "      <td>1776 East 28th Street</td>\n",
       "      <td>1</td>\n",
       "      <td>...</td>\n",
       "      <td>Cotton Club</td>\n",
       "      <td>NaN</td>\n",
       "      <td>0</td>\n",
       "      <td>0</td>\n",
       "      <td>5</td>\n",
       "      <td>5</td>\n",
       "      <td>5</td>\n",
       "      <td>0</td>\n",
       "      <td>3</td>\n",
       "      <td>2</td>\n",
       "    </tr>\n",
       "    <tr>\n",
       "      <th>3</th>\n",
       "      <td>3</td>\n",
       "      <td>478925</td>\n",
       "      <td>2013-01-05</td>\n",
       "      <td>2013</td>\n",
       "      <td>1</td>\n",
       "      <td>5</td>\n",
       "      <td>Colorado</td>\n",
       "      <td>Aurora</td>\n",
       "      <td>16000 block of East Ithaca Place</td>\n",
       "      <td>4</td>\n",
       "      <td>...</td>\n",
       "      <td>NaN</td>\n",
       "      <td>NaN</td>\n",
       "      <td>0</td>\n",
       "      <td>0</td>\n",
       "      <td>4</td>\n",
       "      <td>4</td>\n",
       "      <td>3</td>\n",
       "      <td>1</td>\n",
       "      <td>3</td>\n",
       "      <td>1</td>\n",
       "    </tr>\n",
       "    <tr>\n",
       "      <th>4</th>\n",
       "      <td>4</td>\n",
       "      <td>478959</td>\n",
       "      <td>2013-01-07</td>\n",
       "      <td>2013</td>\n",
       "      <td>1</td>\n",
       "      <td>0</td>\n",
       "      <td>North Carolina</td>\n",
       "      <td>Greensboro</td>\n",
       "      <td>307 Mourning Dove Terrace</td>\n",
       "      <td>2</td>\n",
       "      <td>...</td>\n",
       "      <td>NaN</td>\n",
       "      <td>Two firearms recovered. (Attempted) murder sui...</td>\n",
       "      <td>0</td>\n",
       "      <td>1</td>\n",
       "      <td>3</td>\n",
       "      <td>4</td>\n",
       "      <td>2</td>\n",
       "      <td>2</td>\n",
       "      <td>3</td>\n",
       "      <td>1</td>\n",
       "    </tr>\n",
       "  </tbody>\n",
       "</table>\n",
       "<p>5 rows × 27 columns</p>\n",
       "</div>"
      ],
      "text/plain": [
       "   Unnamed: 0  Incident ID        Date  Year  Month  Weekday           State  \\\n",
       "0           0       461105  2013-01-01  2013      1        1    Pennsylvania   \n",
       "1           1       460726  2013-01-01  2013      1        1      California   \n",
       "2           2       478855  2013-01-01  2013      1        1            Ohio   \n",
       "3           3       478925  2013-01-05  2013      1        5        Colorado   \n",
       "4           4       478959  2013-01-07  2013      1        0  North Carolina   \n",
       "\n",
       "  City or County                                    Address  Number Killed  \\\n",
       "0     Mckeesport  1506 Versailles Avenue and Coursin Street              0   \n",
       "1      Hawthorne               13500 block of Cerise Avenue              1   \n",
       "2         Lorain                      1776 East 28th Street              1   \n",
       "3         Aurora           16000 block of East Ithaca Place              4   \n",
       "4     Greensboro                  307 Mourning Dove Terrace              2   \n",
       "\n",
       "   ...  Location Description  \\\n",
       "0  ...                   NaN   \n",
       "1  ...                   NaN   \n",
       "2  ...           Cotton Club   \n",
       "3  ...                   NaN   \n",
       "4  ...                   NaN   \n",
       "\n",
       "                                               Notes Child Participants 0-11  \\\n",
       "0  Julian Sims under investigation: Four Shot and...                       0   \n",
       "1  Four Shot; One Killed; Unidentified shooter in...                       0   \n",
       "2                                                NaN                       0   \n",
       "3                                                NaN                       0   \n",
       "4  Two firearms recovered. (Attempted) murder sui...                       0   \n",
       "\n",
       "   Teen Participants 12-17  Adult Participants 18+  Total Participants  \\\n",
       "0                        0                       5                   4   \n",
       "1                        0                       4                   1   \n",
       "2                        0                       5                   5   \n",
       "3                        0                       4                   4   \n",
       "4                        1                       3                   4   \n",
       "\n",
       "   Male Participants Female Participants Victim Count  Suspect Count  \n",
       "0                  3                   1            4              1  \n",
       "1                  1                   0            4              1  \n",
       "2                  5                   0            3              2  \n",
       "3                  3                   1            3              1  \n",
       "4                  2                   2            3              1  \n",
       "\n",
       "[5 rows x 27 columns]"
      ]
     },
     "execution_count": 5,
     "metadata": {},
     "output_type": "execute_result"
    }
   ],
   "source": [
    "gv_df.head()"
   ]
  },
  {
   "cell_type": "code",
   "execution_count": 6,
   "id": "700f6f9e-8535-40dc-8a12-df63760877bf",
   "metadata": {},
   "outputs": [],
   "source": [
    "gv_df = gv_df.drop(columns=['Unnamed: 0'])"
   ]
  },
  {
   "cell_type": "code",
   "execution_count": 7,
   "id": "446b0144-981d-4cf6-9892-3190404217a2",
   "metadata": {},
   "outputs": [
    {
     "data": {
      "text/html": [
       "<div>\n",
       "<style scoped>\n",
       "    .dataframe tbody tr th:only-of-type {\n",
       "        vertical-align: middle;\n",
       "    }\n",
       "\n",
       "    .dataframe tbody tr th {\n",
       "        vertical-align: top;\n",
       "    }\n",
       "\n",
       "    .dataframe thead th {\n",
       "        text-align: right;\n",
       "    }\n",
       "</style>\n",
       "<table border=\"1\" class=\"dataframe\">\n",
       "  <thead>\n",
       "    <tr style=\"text-align: right;\">\n",
       "      <th></th>\n",
       "      <th>Incident ID</th>\n",
       "      <th>Date</th>\n",
       "      <th>Year</th>\n",
       "      <th>Month</th>\n",
       "      <th>Weekday</th>\n",
       "      <th>State</th>\n",
       "      <th>City or County</th>\n",
       "      <th>Address</th>\n",
       "      <th>Number Killed</th>\n",
       "      <th>Number Injured</th>\n",
       "      <th>...</th>\n",
       "      <th>Location Description</th>\n",
       "      <th>Notes</th>\n",
       "      <th>Child Participants 0-11</th>\n",
       "      <th>Teen Participants 12-17</th>\n",
       "      <th>Adult Participants 18+</th>\n",
       "      <th>Total Participants</th>\n",
       "      <th>Male Participants</th>\n",
       "      <th>Female Participants</th>\n",
       "      <th>Victim Count</th>\n",
       "      <th>Suspect Count</th>\n",
       "    </tr>\n",
       "  </thead>\n",
       "  <tbody>\n",
       "    <tr>\n",
       "      <th>0</th>\n",
       "      <td>461105</td>\n",
       "      <td>2013-01-01</td>\n",
       "      <td>2013</td>\n",
       "      <td>1</td>\n",
       "      <td>1</td>\n",
       "      <td>Pennsylvania</td>\n",
       "      <td>Mckeesport</td>\n",
       "      <td>1506 Versailles Avenue and Coursin Street</td>\n",
       "      <td>0</td>\n",
       "      <td>4</td>\n",
       "      <td>...</td>\n",
       "      <td>NaN</td>\n",
       "      <td>Julian Sims under investigation: Four Shot and...</td>\n",
       "      <td>0</td>\n",
       "      <td>0</td>\n",
       "      <td>5</td>\n",
       "      <td>4</td>\n",
       "      <td>3</td>\n",
       "      <td>1</td>\n",
       "      <td>4</td>\n",
       "      <td>1</td>\n",
       "    </tr>\n",
       "    <tr>\n",
       "      <th>1</th>\n",
       "      <td>460726</td>\n",
       "      <td>2013-01-01</td>\n",
       "      <td>2013</td>\n",
       "      <td>1</td>\n",
       "      <td>1</td>\n",
       "      <td>California</td>\n",
       "      <td>Hawthorne</td>\n",
       "      <td>13500 block of Cerise Avenue</td>\n",
       "      <td>1</td>\n",
       "      <td>3</td>\n",
       "      <td>...</td>\n",
       "      <td>NaN</td>\n",
       "      <td>Four Shot; One Killed; Unidentified shooter in...</td>\n",
       "      <td>0</td>\n",
       "      <td>0</td>\n",
       "      <td>4</td>\n",
       "      <td>1</td>\n",
       "      <td>1</td>\n",
       "      <td>0</td>\n",
       "      <td>4</td>\n",
       "      <td>1</td>\n",
       "    </tr>\n",
       "    <tr>\n",
       "      <th>2</th>\n",
       "      <td>478855</td>\n",
       "      <td>2013-01-01</td>\n",
       "      <td>2013</td>\n",
       "      <td>1</td>\n",
       "      <td>1</td>\n",
       "      <td>Ohio</td>\n",
       "      <td>Lorain</td>\n",
       "      <td>1776 East 28th Street</td>\n",
       "      <td>1</td>\n",
       "      <td>3</td>\n",
       "      <td>...</td>\n",
       "      <td>Cotton Club</td>\n",
       "      <td>NaN</td>\n",
       "      <td>0</td>\n",
       "      <td>0</td>\n",
       "      <td>5</td>\n",
       "      <td>5</td>\n",
       "      <td>5</td>\n",
       "      <td>0</td>\n",
       "      <td>3</td>\n",
       "      <td>2</td>\n",
       "    </tr>\n",
       "    <tr>\n",
       "      <th>3</th>\n",
       "      <td>478925</td>\n",
       "      <td>2013-01-05</td>\n",
       "      <td>2013</td>\n",
       "      <td>1</td>\n",
       "      <td>5</td>\n",
       "      <td>Colorado</td>\n",
       "      <td>Aurora</td>\n",
       "      <td>16000 block of East Ithaca Place</td>\n",
       "      <td>4</td>\n",
       "      <td>0</td>\n",
       "      <td>...</td>\n",
       "      <td>NaN</td>\n",
       "      <td>NaN</td>\n",
       "      <td>0</td>\n",
       "      <td>0</td>\n",
       "      <td>4</td>\n",
       "      <td>4</td>\n",
       "      <td>3</td>\n",
       "      <td>1</td>\n",
       "      <td>3</td>\n",
       "      <td>1</td>\n",
       "    </tr>\n",
       "    <tr>\n",
       "      <th>4</th>\n",
       "      <td>478959</td>\n",
       "      <td>2013-01-07</td>\n",
       "      <td>2013</td>\n",
       "      <td>1</td>\n",
       "      <td>0</td>\n",
       "      <td>North Carolina</td>\n",
       "      <td>Greensboro</td>\n",
       "      <td>307 Mourning Dove Terrace</td>\n",
       "      <td>2</td>\n",
       "      <td>2</td>\n",
       "      <td>...</td>\n",
       "      <td>NaN</td>\n",
       "      <td>Two firearms recovered. (Attempted) murder sui...</td>\n",
       "      <td>0</td>\n",
       "      <td>1</td>\n",
       "      <td>3</td>\n",
       "      <td>4</td>\n",
       "      <td>2</td>\n",
       "      <td>2</td>\n",
       "      <td>3</td>\n",
       "      <td>1</td>\n",
       "    </tr>\n",
       "  </tbody>\n",
       "</table>\n",
       "<p>5 rows × 26 columns</p>\n",
       "</div>"
      ],
      "text/plain": [
       "   Incident ID        Date  Year  Month  Weekday           State  \\\n",
       "0       461105  2013-01-01  2013      1        1    Pennsylvania   \n",
       "1       460726  2013-01-01  2013      1        1      California   \n",
       "2       478855  2013-01-01  2013      1        1            Ohio   \n",
       "3       478925  2013-01-05  2013      1        5        Colorado   \n",
       "4       478959  2013-01-07  2013      1        0  North Carolina   \n",
       "\n",
       "  City or County                                    Address  Number Killed  \\\n",
       "0     Mckeesport  1506 Versailles Avenue and Coursin Street              0   \n",
       "1      Hawthorne               13500 block of Cerise Avenue              1   \n",
       "2         Lorain                      1776 East 28th Street              1   \n",
       "3         Aurora           16000 block of East Ithaca Place              4   \n",
       "4     Greensboro                  307 Mourning Dove Terrace              2   \n",
       "\n",
       "   Number Injured  ...  Location Description  \\\n",
       "0               4  ...                   NaN   \n",
       "1               3  ...                   NaN   \n",
       "2               3  ...           Cotton Club   \n",
       "3               0  ...                   NaN   \n",
       "4               2  ...                   NaN   \n",
       "\n",
       "                                               Notes  Child Participants 0-11  \\\n",
       "0  Julian Sims under investigation: Four Shot and...                        0   \n",
       "1  Four Shot; One Killed; Unidentified shooter in...                        0   \n",
       "2                                                NaN                        0   \n",
       "3                                                NaN                        0   \n",
       "4  Two firearms recovered. (Attempted) murder sui...                        0   \n",
       "\n",
       "   Teen Participants 12-17  Adult Participants 18+  Total Participants  \\\n",
       "0                        0                       5                   4   \n",
       "1                        0                       4                   1   \n",
       "2                        0                       5                   5   \n",
       "3                        0                       4                   4   \n",
       "4                        1                       3                   4   \n",
       "\n",
       "  Male Participants Female Participants  Victim Count  Suspect Count  \n",
       "0                 3                   1             4              1  \n",
       "1                 1                   0             4              1  \n",
       "2                 5                   0             3              2  \n",
       "3                 3                   1             3              1  \n",
       "4                 2                   2             3              1  \n",
       "\n",
       "[5 rows x 26 columns]"
      ]
     },
     "execution_count": 7,
     "metadata": {},
     "output_type": "execute_result"
    }
   ],
   "source": [
    "gv_df.head()"
   ]
  },
  {
   "cell_type": "code",
   "execution_count": 8,
   "id": "5f3f4c22-3ad8-47cc-8703-b28671f207dd",
   "metadata": {},
   "outputs": [
    {
     "data": {
      "text/plain": [
       "Index(['Incident ID', 'Date', 'Year', 'Month', 'Weekday', 'State',\n",
       "       'City or County', 'Address', 'Number Killed', 'Number Injured',\n",
       "       'Number of Guns Involved', 'Incident Characteristics',\n",
       "       'Congressional District', 'Latitude', 'Longitude', 'Location Combined',\n",
       "       'Location Description', 'Notes', 'Child Participants 0-11',\n",
       "       'Teen Participants 12-17', 'Adult Participants 18+',\n",
       "       'Total Participants', 'Male Participants', 'Female Participants',\n",
       "       'Victim Count', 'Suspect Count'],\n",
       "      dtype='object')"
      ]
     },
     "execution_count": 8,
     "metadata": {},
     "output_type": "execute_result"
    }
   ],
   "source": [
    "gv_df.columns"
   ]
  },
  {
   "cell_type": "markdown",
   "id": "792309ef-a3e5-4548-8b83-101392baa86d",
   "metadata": {},
   "source": [
    "### Missing Values"
   ]
  },
  {
   "cell_type": "code",
   "execution_count": 9,
   "id": "102353f8-9382-497c-83d9-6b585df571e5",
   "metadata": {},
   "outputs": [
    {
     "data": {
      "text/plain": [
       "Incident ID                      0\n",
       "Date                             0\n",
       "Year                             0\n",
       "Month                            0\n",
       "Weekday                          0\n",
       "State                            0\n",
       "City or County                   0\n",
       "Address                      16497\n",
       "Number Killed                    0\n",
       "Number Injured                   0\n",
       "Number of Guns Involved      99451\n",
       "Incident Characteristics       326\n",
       "Congressional District       11944\n",
       "Latitude                      7923\n",
       "Longitude                     7923\n",
       "Location Combined                0\n",
       "Location Description        197588\n",
       "Notes                        81017\n",
       "Child Participants 0-11          0\n",
       "Teen Participants 12-17          0\n",
       "Adult Participants 18+           0\n",
       "Total Participants               0\n",
       "Male Participants                0\n",
       "Female Participants              0\n",
       "Victim Count                     0\n",
       "Suspect Count                    0\n",
       "dtype: int64"
      ]
     },
     "execution_count": 9,
     "metadata": {},
     "output_type": "execute_result"
    }
   ],
   "source": [
    "# Check for missing values\n",
    "\n",
    "missing_values_count= gv_df.isnull().sum()\n",
    "missing_values_count"
   ]
  },
  {
   "cell_type": "code",
   "execution_count": 10,
   "id": "8eaa0299-94c2-4b1c-9d60-8f632ebced7f",
   "metadata": {},
   "outputs": [
    {
     "name": "stdout",
     "output_type": "stream",
     "text": [
      "6.782670010055199\n"
     ]
    }
   ],
   "source": [
    "# how many total missing values do we have?\n",
    "total_cells = np.product(gv_df.shape)\n",
    "total_missing = missing_values_count.sum()\n",
    "\n",
    "# percent of data that is missing\n",
    "percent_missing = (total_missing/total_cells) * 100\n",
    "print(percent_missing) #not as much as i thought, 6% is relatively low"
   ]
  },
  {
   "cell_type": "code",
   "execution_count": 14,
   "id": "5219c88c-7b7a-4fa1-ad16-9a9e34f976c7",
   "metadata": {},
   "outputs": [],
   "source": [
    "# will drop address column as it is not needed for the nature of the analysis\n",
    "gv_df = gv_df.drop(columns=['Address'])"
   ]
  },
  {
   "cell_type": "code",
   "execution_count": 15,
   "id": "ff0ef5dd-21b2-4d10-9f6a-9eb2aca033ae",
   "metadata": {},
   "outputs": [
    {
     "data": {
      "text/plain": [
       "Index(['Incident ID', 'Date', 'Year', 'Month', 'Weekday', 'State',\n",
       "       'City or County', 'Number Killed', 'Number Injured',\n",
       "       'Number of Guns Involved', 'Incident Characteristics',\n",
       "       'Congressional District', 'Latitude', 'Longitude', 'Location Combined',\n",
       "       'Location Description', 'Notes', 'Child Participants 0-11',\n",
       "       'Teen Participants 12-17', 'Adult Participants 18+',\n",
       "       'Total Participants', 'Male Participants', 'Female Participants',\n",
       "       'Victim Count', 'Suspect Count'],\n",
       "      dtype='object')"
      ]
     },
     "execution_count": 15,
     "metadata": {},
     "output_type": "execute_result"
    }
   ],
   "source": [
    "gv_df.columns "
   ]
  },
  {
   "cell_type": "markdown",
   "id": "3b12de0d-db66-42e2-9eca-9867e99b6619",
   "metadata": {},
   "source": [
    "### Duplicates"
   ]
  },
  {
   "cell_type": "code",
   "execution_count": 16,
   "id": "ee81ed9c-3ce1-43ad-b6e1-c142ad3fc8ae",
   "metadata": {},
   "outputs": [],
   "source": [
    "dups = gv_df.duplicated()"
   ]
  },
  {
   "cell_type": "code",
   "execution_count": 17,
   "id": "7ae3b7de-fe95-4f91-8b44-e19f83b033f9",
   "metadata": {},
   "outputs": [
    {
     "data": {
      "text/plain": [
       "(239677,)"
      ]
     },
     "execution_count": 17,
     "metadata": {},
     "output_type": "execute_result"
    }
   ],
   "source": [
    "dups.shape # No dups"
   ]
  },
  {
   "cell_type": "markdown",
   "id": "21ae4da6-55ff-4529-a0ab-40b4b126c3a2",
   "metadata": {},
   "source": [
    "# 03. Data Prep for Regression Analysis"
   ]
  },
  {
   "cell_type": "markdown",
   "id": "8f131695-f3fa-4dc6-b84e-17d070b19bae",
   "metadata": {},
   "source": [
    "My hypothesis is : \"Does the frequency of gun violence differ across different locations?\""
   ]
  },
  {
   "cell_type": "code",
   "execution_count": 60,
   "id": "ee6ca04f-c433-4149-aa95-5c61232fcb30",
   "metadata": {},
   "outputs": [
    {
     "data": {
      "image/png": "[encoded data removed]",
      "text/plain": [
       "<Figure size 640x480 with 1 Axes>"
      ]
     },
     "metadata": {},
     "output_type": "display_data"
    }
   ],
   "source": [
    "# Create a scatterplot using matplotlib for another look at how the chosen variables plot against each other.\n",
    "\n",
    "gv_df.plot(x = 'Location Combined', y='Number Killed',style='o') # The style option creates a scatterplot; without it, we only have lines.\n",
    "plt.title('Total Number Killed by Location')\n",
    "plt.xticks(rotation=90)\n",
    "plt.xlabel('Location Combined')  \n",
    "plt.ylabel('Number Killed')  \n",
    "plt.show()"
   ]
  },
  {
   "cell_type": "code",
   "execution_count": 61,
   "id": "93511fa8-b2fe-44cb-85ed-b6a4a59efa04",
   "metadata": {},
   "outputs": [],
   "source": [
    "# Reshape the variables into NumPy arrays and put them into separate objects.\n",
    "\n",
    "X = gv_df['Location Combined'].values.reshape(-1,1)\n",
    "y = gv_df['Number Killed'].values.reshape(-1,1)"
   ]
  },
  {
   "cell_type": "code",
   "execution_count": 62,
   "id": "e45ff288-0c0e-43f3-83c3-826836d3ceb3",
   "metadata": {},
   "outputs": [
    {
     "data": {
      "text/plain": [
       "array([[0],\n",
       "       [1],\n",
       "       [0],\n",
       "       ...,\n",
       "       [4],\n",
       "       [6],\n",
       "       [0]], dtype=int64)"
      ]
     },
     "execution_count": 62,
     "metadata": {},
     "output_type": "execute_result"
    }
   ],
   "source": [
    "X"
   ]
  },
  {
   "cell_type": "code",
   "execution_count": 64,
   "id": "de73c4f9-8bb6-47ea-b70a-a6a5fbc2fb1b",
   "metadata": {},
   "outputs": [
    {
     "data": {
      "text/plain": [
       "array([[0],\n",
       "       [1],\n",
       "       [1],\n",
       "       ...,\n",
       "       [0],\n",
       "       [1],\n",
       "       [2]], dtype=int64)"
      ]
     },
     "execution_count": 64,
     "metadata": {},
     "output_type": "execute_result"
    }
   ],
   "source": [
    "y"
   ]
  },
  {
   "cell_type": "code",
   "execution_count": 65,
   "id": "95e87e80-0b48-4ebb-b986-da4b7dace49b",
   "metadata": {},
   "outputs": [],
   "source": [
    "# Split data into a training set and a test set.\n",
    "\n",
    "X_train, X_test, y_train, y_test = train_test_split(X, y, test_size=0.3, random_state=0)"
   ]
  },
  {
   "cell_type": "markdown",
   "id": "de6d0a71-2618-4165-b090-8021f99a122c",
   "metadata": {},
   "source": [
    "# 04. Regression Analysis"
   ]
  },
  {
   "cell_type": "code",
   "execution_count": 66,
   "id": "0083b1e9-07cc-4e11-82ed-f370f253b1ff",
   "metadata": {},
   "outputs": [],
   "source": [
    "# Create a regression object.\n",
    "\n",
    "regression = LinearRegression()  # This is the regression object, which will be fit onto the training set."
   ]
  },
  {
   "cell_type": "code",
   "execution_count": 67,
   "id": "c2f6166d-4b00-460f-936d-a5ee55b41e81",
   "metadata": {},
   "outputs": [
    {
     "data": {
      "text/html": [
       "<style>#sk-container-id-5 {color: black;}#sk-container-id-5 pre{padding: 0;}#sk-container-id-5 div.sk-toggleable {background-color: white;}#sk-container-id-5 label.sk-toggleable__label {cursor: pointer;display: block;width: 100%;margin-bottom: 0;padding: 0.3em;box-sizing: border-box;text-align: center;}#sk-container-id-5 label.sk-toggleable__label-arrow:before {content: \"▸\";float: left;margin-right: 0.25em;color: #696969;}#sk-container-id-5 label.sk-toggleable__label-arrow:hover:before {color: black;}#sk-container-id-5 div.sk-estimator:hover label.sk-toggleable__label-arrow:before {color: black;}#sk-container-id-5 div.sk-toggleable__content {max-height: 0;max-width: 0;overflow: hidden;text-align: left;background-color: #f0f8ff;}#sk-container-id-5 div.sk-toggleable__content pre {margin: 0.2em;color: black;border-radius: 0.25em;background-color: #f0f8ff;}#sk-container-id-5 input.sk-toggleable__control:checked~div.sk-toggleable__content {max-height: 200px;max-width: 100%;overflow: auto;}#sk-container-id-5 input.sk-toggleable__control:checked~label.sk-toggleable__label-arrow:before {content: \"▾\";}#sk-container-id-5 div.sk-estimator input.sk-toggleable__control:checked~label.sk-toggleable__label {background-color: #d4ebff;}#sk-container-id-5 div.sk-label input.sk-toggleable__control:checked~label.sk-toggleable__label {background-color: #d4ebff;}#sk-container-id-5 input.sk-hidden--visually {border: 0;clip: rect(1px 1px 1px 1px);clip: rect(1px, 1px, 1px, 1px);height: 1px;margin: -1px;overflow: hidden;padding: 0;position: absolute;width: 1px;}#sk-container-id-5 div.sk-estimator {font-family: monospace;background-color: #f0f8ff;border: 1px dotted black;border-radius: 0.25em;box-sizing: border-box;margin-bottom: 0.5em;}#sk-container-id-5 div.sk-estimator:hover {background-color: #d4ebff;}#sk-container-id-5 div.sk-parallel-item::after {content: \"\";width: 100%;border-bottom: 1px solid gray;flex-grow: 1;}#sk-container-id-5 div.sk-label:hover label.sk-toggleable__label {background-color: #d4ebff;}#sk-container-id-5 div.sk-serial::before {content: \"\";position: absolute;border-left: 1px solid gray;box-sizing: border-box;top: 0;bottom: 0;left: 50%;z-index: 0;}#sk-container-id-5 div.sk-serial {display: flex;flex-direction: column;align-items: center;background-color: white;padding-right: 0.2em;padding-left: 0.2em;position: relative;}#sk-container-id-5 div.sk-item {position: relative;z-index: 1;}#sk-container-id-5 div.sk-parallel {display: flex;align-items: stretch;justify-content: center;background-color: white;position: relative;}#sk-container-id-5 div.sk-item::before, #sk-container-id-5 div.sk-parallel-item::before {content: \"\";position: absolute;border-left: 1px solid gray;box-sizing: border-box;top: 0;bottom: 0;left: 50%;z-index: -1;}#sk-container-id-5 div.sk-parallel-item {display: flex;flex-direction: column;z-index: 1;position: relative;background-color: white;}#sk-container-id-5 div.sk-parallel-item:first-child::after {align-self: flex-end;width: 50%;}#sk-container-id-5 div.sk-parallel-item:last-child::after {align-self: flex-start;width: 50%;}#sk-container-id-5 div.sk-parallel-item:only-child::after {width: 0;}#sk-container-id-5 div.sk-dashed-wrapped {border: 1px dashed gray;margin: 0 0.4em 0.5em 0.4em;box-sizing: border-box;padding-bottom: 0.4em;background-color: white;}#sk-container-id-5 div.sk-label label {font-family: monospace;font-weight: bold;display: inline-block;line-height: 1.2em;}#sk-container-id-5 div.sk-label-container {text-align: center;}#sk-container-id-5 div.sk-container {/* jupyter's `normalize.less` sets `[hidden] { display: none; }` but bootstrap.min.css set `[hidden] { display: none !important; }` so we also need the `!important` here to be able to override the default hidden behavior on the sphinx rendered scikit-learn.org. See: https://github.com/scikit-learn/scikit-learn/issues/21755 */display: inline-block !important;position: relative;}#sk-container-id-5 div.sk-text-repr-fallback {display: none;}</style><div id=\"sk-container-id-5\" class=\"sk-top-container\"><div class=\"sk-text-repr-fallback\"><pre>LinearRegression()</pre><b>In a Jupyter environment, please rerun this cell to show the HTML representation or trust the notebook. <br />On GitHub, the HTML representation is unable to render, please try loading this page with nbviewer.org.</b></div><div class=\"sk-container\" hidden><div class=\"sk-item\"><div class=\"sk-estimator sk-toggleable\"><input class=\"sk-toggleable__control sk-hidden--visually\" id=\"sk-estimator-id-5\" type=\"checkbox\" checked><label for=\"sk-estimator-id-5\" class=\"sk-toggleable__label sk-toggleable__label-arrow\">LinearRegression</label><div class=\"sk-toggleable__content\"><pre>LinearRegression()</pre></div></div></div></div></div>"
      ],
      "text/plain": [
       "LinearRegression()"
      ]
     },
     "execution_count": 67,
     "metadata": {},
     "output_type": "execute_result"
    }
   ],
   "source": [
    "# Fit the regression object onto the training set.\n",
    "\n",
    "regression.fit(X_train, y_train)"
   ]
  },
  {
   "cell_type": "code",
   "execution_count": 68,
   "id": "bdf57175-b266-46e0-9df7-3e09f26233c4",
   "metadata": {},
   "outputs": [],
   "source": [
    "# Predict the values of y using X.\n",
    "\n",
    "y_predicted = regression.predict(X_test)"
   ]
  },
  {
   "cell_type": "code",
   "execution_count": 70,
   "id": "a0dea370-9463-41ac-ac68-ca87af89f6ea",
   "metadata": {},
   "outputs": [
    {
     "data": {
      "image/png": "[encoded data removed]",
      "text/plain": [
       "<Figure size 640x480 with 1 Axes>"
      ]
     },
     "metadata": {},
     "output_type": "display_data"
    }
   ],
   "source": [
    "# Create a plot that shows the regression line from the model on the test set.\n",
    "\n",
    "plot_test = plt\n",
    "plot_test.scatter(X_test, y_test, color='gray', s = 15)\n",
    "plot_test.plot(X_test, y_predicted, color='red', linewidth =3)\n",
    "plot_test.title('Number Killed by Location (Test set)')\n",
    "plot_test.xlabel('Location')\n",
    "plot_test.ylabel('Number Killed')\n",
    "plot_test.show()"
   ]
  },
  {
   "cell_type": "code",
   "execution_count": 71,
   "id": "49e33402-4afc-4c36-acb3-62f2ad067cdf",
   "metadata": {},
   "outputs": [],
   "source": [
    "# Create objects that contain the model summary statistics.\n",
    "\n",
    "rmse = mean_squared_error(y_test, y_predicted) # This is the mean squared error\n",
    "r2 = r2_score(y_test, y_predicted) # This is the R2 score. "
   ]
  },
  {
   "cell_type": "code",
   "execution_count": 72,
   "id": "899579cf-d9eb-409a-a364-5d79cc465749",
   "metadata": {},
   "outputs": [
    {
     "name": "stdout",
     "output_type": "stream",
     "text": [
      "Slope: [[0.00837819]]\n",
      "Mean squared error:  0.3026690219839893\n",
      "R2 score:  0.0031325817524606725\n"
     ]
    }
   ],
   "source": [
    "# Print the model summary statistics. This is where you evaluate the performance of the model.\n",
    "\n",
    "print('Slope:' ,regression.coef_)\n",
    "print('Mean squared error: ', rmse)\n",
    "print('R2 score: ', r2)"
   ]
  },
  {
   "cell_type": "code",
   "execution_count": 73,
   "id": "1107cebf-a3af-4f6b-8765-da381e4df08d",
   "metadata": {},
   "outputs": [
    {
     "data": {
      "text/plain": [
       "array([[0.27925932],\n",
       "       [0.27088113],\n",
       "       [0.24574656],\n",
       "       ...,\n",
       "       [0.22061198],\n",
       "       [0.24574656],\n",
       "       [0.23736836]])"
      ]
     },
     "execution_count": 73,
     "metadata": {},
     "output_type": "execute_result"
    }
   ],
   "source": [
    "y_predicted"
   ]
  },
  {
   "cell_type": "code",
   "execution_count": 74,
   "id": "295bb5bf-d453-4e8c-84e4-3e60e60fb8a3",
   "metadata": {},
   "outputs": [
    {
     "data": {
      "text/html": [
       "<div>\n",
       "<style scoped>\n",
       "    .dataframe tbody tr th:only-of-type {\n",
       "        vertical-align: middle;\n",
       "    }\n",
       "\n",
       "    .dataframe tbody tr th {\n",
       "        vertical-align: top;\n",
       "    }\n",
       "\n",
       "    .dataframe thead th {\n",
       "        text-align: right;\n",
       "    }\n",
       "</style>\n",
       "<table border=\"1\" class=\"dataframe\">\n",
       "  <thead>\n",
       "    <tr style=\"text-align: right;\">\n",
       "      <th></th>\n",
       "      <th>Actual</th>\n",
       "      <th>Predicted</th>\n",
       "    </tr>\n",
       "  </thead>\n",
       "  <tbody>\n",
       "    <tr>\n",
       "      <th>0</th>\n",
       "      <td>0</td>\n",
       "      <td>0.279259</td>\n",
       "    </tr>\n",
       "    <tr>\n",
       "      <th>1</th>\n",
       "      <td>4</td>\n",
       "      <td>0.270881</td>\n",
       "    </tr>\n",
       "    <tr>\n",
       "      <th>2</th>\n",
       "      <td>0</td>\n",
       "      <td>0.245747</td>\n",
       "    </tr>\n",
       "    <tr>\n",
       "      <th>3</th>\n",
       "      <td>0</td>\n",
       "      <td>0.270881</td>\n",
       "    </tr>\n",
       "    <tr>\n",
       "      <th>4</th>\n",
       "      <td>0</td>\n",
       "      <td>0.262503</td>\n",
       "    </tr>\n",
       "    <tr>\n",
       "      <th>5</th>\n",
       "      <td>0</td>\n",
       "      <td>0.254125</td>\n",
       "    </tr>\n",
       "    <tr>\n",
       "      <th>6</th>\n",
       "      <td>0</td>\n",
       "      <td>0.237368</td>\n",
       "    </tr>\n",
       "    <tr>\n",
       "      <th>7</th>\n",
       "      <td>1</td>\n",
       "      <td>0.270881</td>\n",
       "    </tr>\n",
       "    <tr>\n",
       "      <th>8</th>\n",
       "      <td>0</td>\n",
       "      <td>0.220612</td>\n",
       "    </tr>\n",
       "    <tr>\n",
       "      <th>9</th>\n",
       "      <td>0</td>\n",
       "      <td>0.228990</td>\n",
       "    </tr>\n",
       "    <tr>\n",
       "      <th>10</th>\n",
       "      <td>0</td>\n",
       "      <td>0.237368</td>\n",
       "    </tr>\n",
       "    <tr>\n",
       "      <th>11</th>\n",
       "      <td>1</td>\n",
       "      <td>0.270881</td>\n",
       "    </tr>\n",
       "    <tr>\n",
       "      <th>12</th>\n",
       "      <td>0</td>\n",
       "      <td>0.346285</td>\n",
       "    </tr>\n",
       "    <tr>\n",
       "      <th>13</th>\n",
       "      <td>0</td>\n",
       "      <td>0.270881</td>\n",
       "    </tr>\n",
       "    <tr>\n",
       "      <th>14</th>\n",
       "      <td>0</td>\n",
       "      <td>0.254125</td>\n",
       "    </tr>\n",
       "    <tr>\n",
       "      <th>15</th>\n",
       "      <td>0</td>\n",
       "      <td>0.245747</td>\n",
       "    </tr>\n",
       "    <tr>\n",
       "      <th>16</th>\n",
       "      <td>0</td>\n",
       "      <td>0.245747</td>\n",
       "    </tr>\n",
       "    <tr>\n",
       "      <th>17</th>\n",
       "      <td>1</td>\n",
       "      <td>0.254125</td>\n",
       "    </tr>\n",
       "    <tr>\n",
       "      <th>18</th>\n",
       "      <td>0</td>\n",
       "      <td>0.287638</td>\n",
       "    </tr>\n",
       "    <tr>\n",
       "      <th>19</th>\n",
       "      <td>0</td>\n",
       "      <td>0.254125</td>\n",
       "    </tr>\n",
       "    <tr>\n",
       "      <th>20</th>\n",
       "      <td>0</td>\n",
       "      <td>0.220612</td>\n",
       "    </tr>\n",
       "    <tr>\n",
       "      <th>21</th>\n",
       "      <td>0</td>\n",
       "      <td>0.220612</td>\n",
       "    </tr>\n",
       "    <tr>\n",
       "      <th>22</th>\n",
       "      <td>1</td>\n",
       "      <td>0.245747</td>\n",
       "    </tr>\n",
       "    <tr>\n",
       "      <th>23</th>\n",
       "      <td>0</td>\n",
       "      <td>0.220612</td>\n",
       "    </tr>\n",
       "    <tr>\n",
       "      <th>24</th>\n",
       "      <td>0</td>\n",
       "      <td>0.220612</td>\n",
       "    </tr>\n",
       "    <tr>\n",
       "      <th>25</th>\n",
       "      <td>0</td>\n",
       "      <td>0.228990</td>\n",
       "    </tr>\n",
       "    <tr>\n",
       "      <th>26</th>\n",
       "      <td>0</td>\n",
       "      <td>0.220612</td>\n",
       "    </tr>\n",
       "    <tr>\n",
       "      <th>27</th>\n",
       "      <td>0</td>\n",
       "      <td>0.237368</td>\n",
       "    </tr>\n",
       "    <tr>\n",
       "      <th>28</th>\n",
       "      <td>2</td>\n",
       "      <td>0.245747</td>\n",
       "    </tr>\n",
       "    <tr>\n",
       "      <th>29</th>\n",
       "      <td>0</td>\n",
       "      <td>0.270881</td>\n",
       "    </tr>\n",
       "  </tbody>\n",
       "</table>\n",
       "</div>"
      ],
      "text/plain": [
       "    Actual  Predicted\n",
       "0        0   0.279259\n",
       "1        4   0.270881\n",
       "2        0   0.245747\n",
       "3        0   0.270881\n",
       "4        0   0.262503\n",
       "5        0   0.254125\n",
       "6        0   0.237368\n",
       "7        1   0.270881\n",
       "8        0   0.220612\n",
       "9        0   0.228990\n",
       "10       0   0.237368\n",
       "11       1   0.270881\n",
       "12       0   0.346285\n",
       "13       0   0.270881\n",
       "14       0   0.254125\n",
       "15       0   0.245747\n",
       "16       0   0.245747\n",
       "17       1   0.254125\n",
       "18       0   0.287638\n",
       "19       0   0.254125\n",
       "20       0   0.220612\n",
       "21       0   0.220612\n",
       "22       1   0.245747\n",
       "23       0   0.220612\n",
       "24       0   0.220612\n",
       "25       0   0.228990\n",
       "26       0   0.220612\n",
       "27       0   0.237368\n",
       "28       2   0.245747\n",
       "29       0   0.270881"
      ]
     },
     "execution_count": 74,
     "metadata": {},
     "output_type": "execute_result"
    }
   ],
   "source": [
    "# Create a dataframe comparing the actual and predicted values of y.\n",
    "\n",
    "data = pd.DataFrame({'Actual': y_test.flatten(), 'Predicted': y_predicted.flatten()})\n",
    "data.head(30)"
   ]
  },
  {
   "cell_type": "code",
   "execution_count": 75,
   "id": "9244d954-f3f8-48fd-abca-28ca60b54b29",
   "metadata": {},
   "outputs": [],
   "source": [
    "# Predict.\n",
    "\n",
    "y_predicted_train = regression.predict(X_train) # This is predicting X_train!"
   ]
  },
  {
   "cell_type": "code",
   "execution_count": 76,
   "id": "4e5ea8dc-53ed-4430-ae63-03ddc6aa2345",
   "metadata": {},
   "outputs": [],
   "source": [
    "rmse = mean_squared_error(y_train, y_predicted_train)\n",
    "r2 = r2_score(y_train, y_predicted_train)"
   ]
  },
  {
   "cell_type": "code",
   "execution_count": 77,
   "id": "bfca298d-b07f-478f-9230-45c6c03f9731",
   "metadata": {},
   "outputs": [
    {
     "name": "stdout",
     "output_type": "stream",
     "text": [
      "Slope: [[0.00837819]]\n",
      "Mean squared error:  0.25799914802659263\n",
      "R2 score:  0.0031056943968765793\n"
     ]
    }
   ],
   "source": [
    "print('Slope:' ,regression.coef_)\n",
    "print('Mean squared error: ', rmse)\n",
    "print('R2 score: ', r2)"
   ]
  },
  {
   "cell_type": "code",
   "execution_count": 78,
   "id": "7af856a3-89a1-4608-9354-216d2a15ee6e",
   "metadata": {},
   "outputs": [
    {
     "data": {
      "image/png": "[encoded data removed]",
      "text/plain": [
       "<Figure size 640x480 with 1 Axes>"
      ]
     },
     "metadata": {},
     "output_type": "display_data"
    }
   ],
   "source": [
    "# Visualizing the training set results.\n",
    "\n",
    "plot_test = plt\n",
    "plot_test.scatter(X_train, y_train, color='blue', s = 15)\n",
    "plot_test.plot(X_train, y_predicted_train, color='red', linewidth =3)\n",
    "plot_test.title('Number Killed by Location (Train set)')\n",
    "plot_test.xlabel('Location')\n",
    "plot_test.ylabel('Number Killed')\n",
    "plot_test.show()"
   ]
  },
  {
   "cell_type": "markdown",
   "id": "9c6f3959-a282-4cbe-8d7a-a99a6fbd6540",
   "metadata": {},
   "source": [
    "The models show that location and the number of people killed does not have an overly strong relationship in regards to numerical values. The number of people killed varies for states, as seen in the last exercise, but no strong relationship for number killed and the numerical coordinates of location. "
   ]
  },
  {
   "cell_type": "markdown",
   "id": "7de269b2-eda9-4342-b681-623508d089fd",
   "metadata": {},
   "source": [
    "# 05. Extracting Dataframe"
   ]
  },
  {
   "cell_type": "code",
   "execution_count": 79,
   "id": "05331fe2-1f2b-4fff-9f4d-d626b4dd8e8c",
   "metadata": {},
   "outputs": [],
   "source": [
    "# exporting df to csv\n",
    "gv_df.to_csv(os.path.join(path, '02 Data', 'Prepared Data','6.4_gun_violence_cleaned.csv'))"
   ]
  }
 ],
 "metadata": {
  "kernelspec": {
   "display_name": "Python 3 (ipykernel)",
   "language": "python",
   "name": "python3"
  },
  "language_info": {
   "codemirror_mode": {
    "name": "ipython",
    "version": 3
   },
   "file_extension": ".py",
   "mimetype": "text/x-python",
   "name": "python",
   "nbconvert_exporter": "python",
   "pygments_lexer": "ipython3",
   "version": "3.11.5"
  }
 },
 "nbformat": 4,
 "nbformat_minor": 5
}
